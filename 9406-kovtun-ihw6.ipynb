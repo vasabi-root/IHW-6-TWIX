{
 "cells": [
  {
   "cell_type": "code",
   "execution_count": 16,
   "id": "d1908932",
   "metadata": {},
   "outputs": [],
   "source": [
    "import numpy as np\n",
    "import matplotlib.pyplot as plt\n",
    "plt.rcParams['figure.figsize'] = (12, 6)\n",
    "Y = np.array([5.26, 10.77, 21.96, 17.32, 12.07, \n",
    "              7.91, 14.02, 19.30, 8.89, 2.79,\n",
    "              3.86, 15.39, 4.70, 8.78, 5.78,\n",
    "              21.75, 13.02, 2.01, 10.80, 9.63,\n",
    "              8.19, 3.03, 8.37, 12.34, 7.78,\n",
    "              12.63, 13.99, 20.74, 17.52, 19.96, \n",
    "              12.61, 10.71, 15.23, 10.46, 10.41,\n",
    "              3.37, 9.81, 5.82, 1.95, 15.25,\n",
    "              19.48, 11.61, 3.32, 6.78, 7.53, \n",
    "              8.21, 7.46, 9.22, 6.17, 3.99])\n",
    "\n",
    "X = np.array([3, 9, 7, 3, 2, 5, 8, 4, 2, 8, \n",
    "              6, 7, 5, 7, 4, 7, 6, 7, 7, 9,\n",
    "              0, 5, 4, 4, 5, 4, 0, 6, 5, 8,\n",
    "              7, 0, 3, 1, 1, 3, 8, 0, 7, 4,\n",
    "              9, 1, 4, 8, 4, 6, 8, 8, 2, 5])\n",
    "\n",
    "h = 2.60\n",
    "alpha_1 = 0.01\n",
    "n = 50\n"
   ]
  },
  {
   "cell_type": "markdown",
   "id": "f64de685",
   "metadata": {},
   "source": [
    "# 1. Построить графически результаты эксперимента. Сформулироать линейную регрессионную модель переменной Y по переменной X. Построить МНК оценки параметров сдвига $b_0$ и масштаба $b_1$. Построить полученную линию регрессии. Оценить визуально соответствие полученных данных и построенной оценки"
   ]
  },
  {
   "cell_type": "markdown",
   "id": "60eae69c",
   "metadata": {},
   "source": [
    "Линейная регрессионная модель: $b_1 = \\frac{\\sum\\limits_{i = 1}^n {(x_i-\\overline x)}(y_i-\\overline y)}{(\\sum\\limits_{i = 1}^n {(x_i-\\overline x)^2})}$ , \n",
    "$b_0 = \\overline y-b_1\\overline x$"
   ]
  },
  {
   "cell_type": "code",
   "execution_count": 28,
   "id": "c69d62e5",
   "metadata": {},
   "outputs": [],
   "source": [
    "def linear_reg(x):\n",
    "    b1 = np.sum((X - np.mean(X)) * (Y - np.mean(Y))) / \\\n",
    "         np.sum((X - np.mean(X))**2)\n",
    "    b0 = np.mean(Y) - b1*np.mean(X)\n",
    "    return b1*x + b0"
   ]
  },
  {
   "cell_type": "markdown",
   "id": "4b0e3e9e",
   "metadata": {},
   "source": [
    "Облако точек и график линейной регрессионной можели:"
   ]
  },
  {
   "cell_type": "code",
   "execution_count": 33,
   "id": "7d14d799",
   "metadata": {},
   "outputs": [
    {
     "data": {
      "image/png": "[encoded data removed]",
      "text/plain": [
       "<Figure size 864x432 with 1 Axes>"
      ]
     },
     "metadata": {
      "needs_background": "light"
     },
     "output_type": "display_data"
    }
   ],
   "source": [
    "x = np.linspace(0, 9, 300)\n",
    "y = linear_reg(x)\n",
    "plt.scatter(X, Y, label = \"Y of X\")\n",
    "plt.scatter(x, y, label = \"MSM\")\n",
    "plt.legend(prop = {'size':15})\n",
    "plt.title(\"Linear Regression Model\")\n",
    "plt.xlabel(\"X\", fontsize = 25)\n",
    "plt.ylabel(\"Y\", fontsize = 25, rotation = 0)\n",
    "plt.show()"
   ]
  },
  {
   "cell_type": "markdown",
   "id": "e157de3e",
   "metadata": {},
   "source": [
    "Визуально прямая расположилаь по-середине облака"
   ]
  },
  {
   "cell_type": "markdown",
   "id": "30621e1f",
   "metadata": {},
   "source": [
    "# 2. Построить и интерпретировать несмещённую оценку дисперсии. На базе ошибок построить гистограмму с шагом h. Проверить гипотезу нормальности ошибок на уровне $\\alpha$ по $\\chi^2$. Оценить расстояние ролученной оценки до класса нормальных распределений по Колмогорову. Визуально оценить данный факт"
   ]
  },
  {
   "cell_type": "markdown",
   "id": "48302733",
   "metadata": {},
   "source": [
    "$$S=\\frac{\\sum\\limits_{i = 1}^n(x-\\overline x)^2}{n-1}$$"
   ]
  },
  {
   "cell_type": "code",
   "execution_count": 51,
   "id": "d7edd922",
   "metadata": {},
   "outputs": [],
   "source": [
    "def est_var(X, X_):\n",
    "    e = (X - X_)**2\n",
    "    return np.sum(e) / (n-1)"
   ]
  },
  {
   "cell_type": "code",
   "execution_count": 52,
   "id": "6ec6bc37",
   "metadata": {},
   "outputs": [
    {
     "data": {
      "text/plain": [
       "29.54879137482348"
      ]
     },
     "execution_count": 52,
     "metadata": {},
     "output_type": "execute_result"
    }
   ],
   "source": [
    "est_var(Y, linear_reg(X))"
   ]
  },
  {
   "cell_type": "markdown",
   "id": "62d56c5b",
   "metadata": {},
   "source": [
    "Гистограмма на базе ошибок с шагом h:"
   ]
  },
  {
   "cell_type": "code",
   "execution_count": 40,
   "id": "f71a2737",
   "metadata": {
    "scrolled": false
   },
   "outputs": [
    {
     "data": {
      "image/png": "[encoded data removed]",
      "text/plain": [
       "<Figure size 864x432 with 1 Axes>"
      ]
     },
     "metadata": {
      "needs_background": "light"
     },
     "output_type": "display_data"
    }
   ],
   "source": [
    "mist = Y - linear_reg(X)\n",
    "plt.hist(mist,\n",
    "         bins = np.arange(np.min(mist), np.max(mist), h).shape[0])\n",
    "plt.show()"
   ]
  },
  {
   "cell_type": "markdown",
   "id": "c7763ee8",
   "metadata": {},
   "source": [
    "# 5. Сформулировать модель, включающую дополнительный член с 𝜒2. Построить МНК оценки параметров $b_1$, $b_2$, $b_3$ в данной модели. Изобразить графически полученную регрессионную зависимость"
   ]
  },
  {
   "cell_type": "markdown",
   "id": "d83ecb9d",
   "metadata": {},
   "source": [
    "Расчёт 𝑏1 , 𝑏2, 𝑏3 по формулам: "
   ]
  },
  {
   "cell_type": "markdown",
   "id": "22582929",
   "metadata": {},
   "source": [
    "<td style=\"text-align: center\"><img src=\"matrix.png\" width = 300 alt=\"matrix\"></td>"
   ]
  },
  {
   "cell_type": "code",
   "execution_count": 48,
   "id": "939bf301",
   "metadata": {},
   "outputs": [],
   "source": [
    "def square_model(x):\n",
    "    S1 = np.sum(X)\n",
    "    S2 = np.sum(X ** 2)\n",
    "    S3 = np.sum(X ** 3)\n",
    "    S4 = np.sum(X ** 4)\n",
    "    S_y0 = np.sum(Y)\n",
    "    S_y1 = np.sum(X @ Y)\n",
    "    S_y2 = np.sum(np.square(X) @ Y)\n",
    "    matrix = np.array([[n, S1, S2], [S1, S2, S3], [S2, S3, S4]])\n",
    "    vector = np.array([S_y0, S_y1, S_y2]).reshape(-1, 1)\n",
    "    coefs = (np.linalg.inv(matrix) @ vector)\n",
    "    b3 = coefs[-1]\n",
    "    b2 = coefs[1]\n",
    "    b1 = coefs[0]\n",
    "    return b3 * x ** 2 + b2 * x + b1"
   ]
  },
  {
   "cell_type": "markdown",
   "id": "12fbbdc0",
   "metadata": {},
   "source": [
    "Облако точек и график квадратичной можели:"
   ]
  },
  {
   "cell_type": "code",
   "execution_count": 49,
   "id": "7c5d42ae",
   "metadata": {},
   "outputs": [
    {
     "data": {
      "image/png": "[encoded data removed]",
      "text/plain": [
       "<Figure size 864x432 with 1 Axes>"
      ]
     },
     "metadata": {
      "needs_background": "light"
     },
     "output_type": "display_data"
    }
   ],
   "source": [
    "x = np.linspace(0, 9, 300)\n",
    "y = square_model(x)\n",
    "plt.scatter(X, Y, label = \"Y of X\")\n",
    "plt.scatter(x, y, label = \"MSM\")\n",
    "plt.legend(prop = {'size': 15})\n",
    "plt.title(\"Square model\")\n",
    "plt.xlabel(\"X\", fontsize = 25)\n",
    "plt.ylabel(\"Y\", fontsize = 25, rotation=0)\n",
    "plt.show()"
   ]
  },
  {
   "cell_type": "markdown",
   "id": "12a54f91",
   "metadata": {},
   "source": [
    "Визуально график прогибается ниже \"середины\" облака"
   ]
  },
  {
   "cell_type": "markdown",
   "id": "b230dbd7",
   "metadata": {},
   "source": [
    "# 6. Построить несмещённую оценку дисперсии. На базе ошибок построить гистограмму с шагом h"
   ]
  },
  {
   "cell_type": "code",
   "execution_count": 50,
   "id": "f62c9437",
   "metadata": {},
   "outputs": [
    {
     "data": {
      "text/plain": [
       "29.34674896239279"
      ]
     },
     "execution_count": 50,
     "metadata": {},
     "output_type": "execute_result"
    }
   ],
   "source": [
    "est_var(Y, square_model(X))"
   ]
  },
  {
   "cell_type": "markdown",
   "id": "ed29707c",
   "metadata": {},
   "source": [
    "Гистограмма на базе ошибок с шагом h:"
   ]
  },
  {
   "cell_type": "code",
   "execution_count": 57,
   "id": "9399194e",
   "metadata": {
    "scrolled": true
   },
   "outputs": [
    {
     "data": {
      "image/png": "[encoded data removed]",
      "text/plain": [
       "<Figure size 864x432 with 1 Axes>"
      ]
     },
     "metadata": {
      "needs_background": "light"
     },
     "output_type": "display_data"
    }
   ],
   "source": [
    "mist = Y - square_model(X)\n",
    "plt.hist(mist,\n",
    "         bins = np.arange(np.min(mist), np.max(mist), h).shape[0])\n",
    "plt.show()"
   ]
  },
  {
   "cell_type": "markdown",
   "id": "0d42d30e",
   "metadata": {},
   "source": [
    "Линейная и квадратичная оценки несмещённой дисперсии примерно равны. Последняя немного рвномернее"
   ]
  }
 ],
 "metadata": {
  "kernelspec": {
   "display_name": "Python 3",
   "language": "python",
   "name": "python3"
  },
  "language_info": {
   "codemirror_mode": {
    "name": "ipython",
    "version": 3
   },
   "file_extension": ".py",
   "mimetype": "text/x-python",
   "name": "python",
   "nbconvert_exporter": "python",
   "pygments_lexer": "ipython3",
   "version": "3.8.8"
  }
 },
 "nbformat": 4,
 "nbformat_minor": 5
}
